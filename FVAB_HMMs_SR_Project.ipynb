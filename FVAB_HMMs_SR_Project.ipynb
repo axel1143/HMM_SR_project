{
 "nbformat": 4,
 "nbformat_minor": 0,
 "metadata": {
  "colab": {
   "name": "FVAB_HMMs_SR_Project.ipynb",
   "provenance": [],
   "collapsed_sections": []
  },
  "kernelspec": {
   "name": "python3",
   "display_name": "Python 3"
  },
  "language_info": {
   "name": "python"
  }
 },
 "cells": [
  {
   "cell_type": "markdown",
   "source": [
    "All import"
   ],
   "metadata": {
    "collapsed": false,
    "pycharm": {
     "name": "#%% md\n"
    }
   }
  },
  {
   "cell_type": "code",
   "source": [
    "import librosa as lb\n",
    "import librosa.display as display\n",
    "import librosa.effects as effects\n",
    "import numpy as np\n",
    "import csv as csv\n",
    "import os\n",
    "import matplotlib.pyplot as plt\n",
    "import pandas as pd\n",
    "from IPython.display import Audio\n",
    "\n",
    "from hmmlearn import hmm\n",
    "from collections import Counter\n",
    "\n",
    "import sys\n",
    "n_cluster = 1000"
   ],
   "metadata": {
    "id": "mKs7zKLIw8eK",
    "pycharm": {
     "name": "#%%\n"
    }
   },
   "execution_count": 1,
   "outputs": []
  },
  {
   "cell_type": "markdown",
   "source": [
    "defining pre_processing"
   ],
   "metadata": {
    "id": "mNa_-OsWxMjb",
    "pycharm": {
     "name": "#%% md\n"
    }
   }
  },
  {
   "cell_type": "code",
   "execution_count": 2,
   "outputs": [],
   "source": [
    "\n",
    "def pre_processing(path):\n",
    "  #load\n",
    "  audio, sr = lb.load(path = path, mono = True)\n",
    "\n",
    "  #pre-emp\n",
    "  pre_emp_audio = effects.preemphasis(audio, 0.97)\n",
    "\n",
    "\n",
    "  #removing silence in audio\n",
    "  clips = effects.split(pre_emp_audio, top_db=25)\n",
    "  silenced=[]\n",
    "  for c in clips:\n",
    "    data = audio[c[0]: c[1]]\n",
    "    silenced.extend(data)\n",
    "\n",
    "  silence = np.array(silenced)\n",
    "\n",
    "\n",
    "\n",
    "  return silence, sr\n",
    "\n",
    "EXAMPLE_PATH = \"/home/axel1143/Scrivania/Voxceleb_wav/wav/id10261/1suWlhhvRcs/00011.wav\"\n",
    "BASE_TRAINING_PATH=\"C:\\\\Users\\\\alexp\\\\Desktop\\\\Voxceleb_wav\\\\wav\\\\\"\n",
    "#BASE_TRAINING_PATH=\"/home/axel1143/Scrivania/Voxceleb_wav/wav/\"\n",
    "BASE_PATH = \"C:\\\\Users\\\\alexp\\\\Desktop\\\\Voxceleb_mat\\\\\"\n",
    "#BASE_PATH = \"/home/alex/Scrivania/Voxceleb_mat/\""
   ],
   "metadata": {
    "collapsed": false,
    "pycharm": {
     "name": "#%%\n"
    }
   }
  },
  {
   "cell_type": "markdown",
   "source": [
    "**(example)** calculating mfcc, delta, delta2"
   ],
   "metadata": {
    "collapsed": false,
    "pycharm": {
     "name": "#%% md\n"
    }
   }
  },
  {
   "cell_type": "code",
   "execution_count": null,
   "outputs": [],
   "source": [
    "processed_audio, sr = pre_processing(EXAMPLE_PATH)\n",
    "print(len(processed_audio)/sr)\n",
    "mfcc = lb.feature.mfcc(y = processed_audio, sr = sr, n_mfcc = 13)\n",
    "mfcc_delta = lb.feature.delta(mfcc)\n",
    "mfcc_delta2 = lb.feature.delta(mfcc, order = 2)\n",
    "\n",
    "Audio(processed_audio, rate = sr)\n",
    "\n"
   ],
   "metadata": {
    "collapsed": false,
    "pycharm": {
     "name": "#%%\n"
    }
   }
  },
  {
   "cell_type": "markdown",
   "source": [
    "**(example)** show mfcc, delta & delta2"
   ],
   "metadata": {
    "collapsed": false,
    "pycharm": {
     "name": "#%% md\n"
    }
   }
  },
  {
   "cell_type": "code",
   "execution_count": null,
   "outputs": [],
   "source": [
    "fig, ax = plt.subplots(nrows =3, sharex =True)\n",
    "\n",
    "img_mfcc = display.specshow(mfcc, ax=ax[0])\n",
    "\n",
    "img_delta = display.specshow(mfcc_delta, ax=ax[1])\n",
    "\n",
    "img_delta2 = display.specshow(mfcc_delta2, ax=ax[2])\n",
    "\n"
   ],
   "metadata": {
    "collapsed": false,
    "pycharm": {
     "name": "#%%\n"
    }
   }
  },
  {
   "cell_type": "markdown",
   "source": [
    "**(example)** single execution example"
   ],
   "metadata": {
    "collapsed": false,
    "pycharm": {
     "name": "#%% md\n"
    }
   }
  },
  {
   "cell_type": "code",
   "execution_count": null,
   "outputs": [],
   "source": [
    "row_csv = []\n",
    "row_csv.append(\"id11\")\n",
    "row_csv.append(\"pathblablabla\")\n",
    "print(row_csv)\n",
    "for row in mfcc:\n",
    "  row_csv_2 = []\n",
    "  for value in row:\n",
    "    row_csv_2.append(value)\n",
    "  row_csv.append(row_csv_2)\n",
    "\n",
    "for row in mfcc_delta:\n",
    "  row_csv_2 = []\n",
    "  for value in row:\n",
    "    row_csv_2.append(value)\n",
    "  row_csv.append(row_csv_2)\n",
    "\n",
    "for row in mfcc_delta2:\n",
    "  row_csv_2 = []\n",
    "  for value in row:\n",
    "    row_csv_2.append(value)\n",
    "  row_csv.append(row_csv_2)\n",
    "\n",
    "header = [\"id\",\"path\",\n",
    "          \"mfcc1\",\"mfcc2\",\"mfcc3\",\"mfcc4\",\"mfcc5\",\"mfcc6\",\"mfcc7\",\"mfcc8\",\"mfcc9\",\"mfcc10\",\"mfcc11\",\"mfcc12\",\"mfcc13\",\n",
    "          \"delta1\",\"delta2\",\"delta3\",\"delta4\",\"delta5\",\"delta6\",\"delta7\",\"delta8\",\"delta9\",\"delta10\",\"delta11\",\"delta12\",\"delta13\",\n",
    "          \"delta2_1\",\"delta2_2\",\"delta2_3\",\"delta2_4\",\"delta2_5\",\"delta2_6\",\"delta2_7\",\"delta2_8\",\"delta2_9\",\"delta2_10\",\"delta2_11\",\"delta2_12\",\"delta2_13\"]\n",
    "\n",
    "with open(\"/content/drive/MyDrive/DATASET_VOXCELEB_1/file.csv\", \"w\", encoding=\"UTF-8\", newline=\"\") as cs:\n",
    "  writer = csv.writer(cs)\n",
    "  writer.writerow(header)\n",
    "  writer.writerow(row_csv)\n",
    "\n"
   ],
   "metadata": {
    "collapsed": false,
    "pycharm": {
     "name": "#%%\n"
    }
   }
  },
  {
   "cell_type": "markdown",
   "source": [
    "**creating** csv\n"
   ],
   "metadata": {
    "collapsed": false,
    "pycharm": {
     "name": "#%% md\n"
    }
   }
  },
  {
   "cell_type": "code",
   "execution_count": 1,
   "outputs": [
    {
     "ename": "NameError",
     "evalue": "name 'os' is not defined",
     "output_type": "error",
     "traceback": [
      "\u001B[1;31m---------------------------------------------------------------------------\u001B[0m",
      "\u001B[1;31mNameError\u001B[0m                                 Traceback (most recent call last)",
      "Input \u001B[1;32mIn [1]\u001B[0m, in \u001B[0;36m<cell line: 9>\u001B[1;34m()\u001B[0m\n\u001B[0;32m      6\u001B[0m counter_speaker \u001B[38;5;241m=\u001B[39m \u001B[38;5;241m0\u001B[39m\n\u001B[0;32m      7\u001B[0m final_matrix \u001B[38;5;241m=\u001B[39m []\n\u001B[1;32m----> 9\u001B[0m \u001B[38;5;28;01mfor\u001B[39;00m \u001B[38;5;28mdir\u001B[39m \u001B[38;5;129;01min\u001B[39;00m \u001B[43mos\u001B[49m\u001B[38;5;241m.\u001B[39mlistdir(BASE_TRAINING_PATH):\n\u001B[0;32m     10\u001B[0m     \u001B[38;5;28;01mif\u001B[39;00m counter_speaker \u001B[38;5;241m<\u001B[39m \u001B[38;5;241m300\u001B[39m:\n\u001B[0;32m     11\u001B[0m         counter_speaker\u001B[38;5;241m+\u001B[39m\u001B[38;5;241m=\u001B[39m\u001B[38;5;241m1\u001B[39m\n",
      "\u001B[1;31mNameError\u001B[0m: name 'os' is not defined"
     ]
    }
   ],
   "source": [
    "header = [\"id\",\"path\",\n",
    "          \"mfcc1\",\"mfcc2\",\"mfcc3\",\"mfcc4\",\"mfcc5\",\"mfcc6\",\"mfcc7\",\"mfcc8\",\"mfcc9\",\"mfcc10\",\"mfcc11\",\"mfcc12\",\"mfcc13\",\n",
    "          \"delta1\",\"delta2\",\"delta3\",\"delta4\",\"delta5\",\"delta6\",\"delta7\",\"delta8\",\"delta9\",\"delta10\",\"delta11\",\"delta12\",\"delta13\", \n",
    "          \"delta2_1\",\"delta2_2\",\"delta2_3\",\"delta2_4\",\"delta2_5\",\"delta2_6\",\"delta2_7\",\"delta2_8\",\"delta2_9\",\"delta2_10\",\"delta2_11\",\"delta2_12\",\"delta2_13\"]\n",
    "\n",
    "counter_speaker = 0\n",
    "final_matrix = []\n",
    "\n",
    "for dir in os.listdir(BASE_TRAINING_PATH):\n",
    "    if counter_speaker < 300:\n",
    "        counter_speaker+=1\n",
    "        count_audio = 0\n",
    "        for dir1 in os.listdir(BASE_TRAINING_PATH+dir):\n",
    "            if count_audio < 40:\n",
    "                for file in os.listdir(BASE_TRAINING_PATH+dir+\"/\"+dir1):\n",
    "                  if count_audio < 40:\n",
    "                      if not os.path.isdir(BASE_TRAINING_PATH+dir+\"/\"+dir1+\"/\"+file):\n",
    "                        count_audio +=1\n",
    "                        COMPLETE_PATH = BASE_TRAINING_PATH+dir+\"/\"+dir1+\"/\"+file\n",
    "                        processed_audio, sr = pre_processing(COMPLETE_PATH)\n",
    "\n",
    "                        #mfcc = get_mfcc_coefficient(processed_audio, rs) #my mfcc\n",
    "                        mfcc = lb.feature.mfcc(y = processed_audio, sr = sr, n_mfcc=13)\n",
    "                        mfcc_delta = lb.feature.delta(mfcc)\n",
    "                        mfcc_delta2 = lb.feature.delta(mfcc, order=2)\n",
    "\n",
    "                        row_csv = []\n",
    "                        row_csv.append(dir)\n",
    "                        row_csv.append(COMPLETE_PATH)\n",
    "\n",
    "\n",
    "                        for row in mfcc:\n",
    "                          row_csv_2 = []\n",
    "                          for value in row:\n",
    "                            row_csv_2.append(value)\n",
    "                          row_csv.append(row_csv_2)\n",
    "\n",
    "                        for row in mfcc_delta:\n",
    "                          row_csv_2 = []\n",
    "                          for value in row:\n",
    "                            row_csv_2.append(value)\n",
    "                          row_csv.append(row_csv_2)\n",
    "\n",
    "                        for row in mfcc_delta2:\n",
    "                          row_csv_2 = []\n",
    "                          for value in row:\n",
    "                            row_csv_2.append(value)\n",
    "                          row_csv.append(row_csv_2)\n",
    "\n",
    "                        final_matrix.append(row_csv)\n",
    "                        print(\"audio n°\", count_audio, \"done\")\n",
    "    else:\n",
    "        continue\n",
    "\n",
    "df = pd.DataFrame(np.array(final_matrix))\n",
    "df.columns = header\n",
    "df.to_csv(BASE_PATH + \"featuring_extraction.csv\" )"
   ],
   "metadata": {
    "collapsed": false,
    "pycharm": {
     "name": "#%%\n"
    }
   }
  },
  {
   "cell_type": "markdown",
   "source": [
    "loading df, creating mfcc/delta matrix"
   ],
   "metadata": {
    "collapsed": false,
    "pycharm": {
     "name": "#%% md\n"
    }
   }
  },
  {
   "cell_type": "code",
   "execution_count": 2,
   "outputs": [
    {
     "ename": "NameError",
     "evalue": "name 'pd' is not defined",
     "output_type": "error",
     "traceback": [
      "\u001B[1;31m---------------------------------------------------------------------------\u001B[0m",
      "\u001B[1;31mNameError\u001B[0m                                 Traceback (most recent call last)",
      "Input \u001B[1;32mIn [2]\u001B[0m, in \u001B[0;36m<cell line: 1>\u001B[1;34m()\u001B[0m\n\u001B[1;32m----> 1\u001B[0m df \u001B[38;5;241m=\u001B[39m \u001B[43mpd\u001B[49m\u001B[38;5;241m.\u001B[39mread_csv(BASE_PATH \u001B[38;5;241m+\u001B[39m \u001B[38;5;124m\"\u001B[39m\u001B[38;5;124mfeaturing_extraction.csv\u001B[39m\u001B[38;5;124m\"\u001B[39m)\n\u001B[0;32m      3\u001B[0m features_mfcc \u001B[38;5;241m=\u001B[39m [\u001B[38;5;124m\"\u001B[39m\u001B[38;5;124mmfcc1\u001B[39m\u001B[38;5;124m\"\u001B[39m, \u001B[38;5;124m\"\u001B[39m\u001B[38;5;124mmfcc2\u001B[39m\u001B[38;5;124m\"\u001B[39m, \u001B[38;5;124m\"\u001B[39m\u001B[38;5;124mmfcc3\u001B[39m\u001B[38;5;124m\"\u001B[39m, \u001B[38;5;124m\"\u001B[39m\u001B[38;5;124mmfcc4\u001B[39m\u001B[38;5;124m\"\u001B[39m, \u001B[38;5;124m\"\u001B[39m\u001B[38;5;124mmfcc5\u001B[39m\u001B[38;5;124m\"\u001B[39m, \u001B[38;5;124m\"\u001B[39m\u001B[38;5;124mmfcc6\u001B[39m\u001B[38;5;124m\"\u001B[39m, \u001B[38;5;124m\"\u001B[39m\u001B[38;5;124mmfcc7\u001B[39m\u001B[38;5;124m\"\u001B[39m, \u001B[38;5;124m\"\u001B[39m\u001B[38;5;124mmfcc8\u001B[39m\u001B[38;5;124m\"\u001B[39m, \u001B[38;5;124m\"\u001B[39m\u001B[38;5;124mmfcc9\u001B[39m\u001B[38;5;124m\"\u001B[39m, \u001B[38;5;124m\"\u001B[39m\u001B[38;5;124mmfcc10\u001B[39m\u001B[38;5;124m\"\u001B[39m, \u001B[38;5;124m\"\u001B[39m\u001B[38;5;124mmfcc11\u001B[39m\u001B[38;5;124m\"\u001B[39m,\n\u001B[0;32m      4\u001B[0m             \u001B[38;5;124m\"\u001B[39m\u001B[38;5;124mmfcc12\u001B[39m\u001B[38;5;124m\"\u001B[39m, \u001B[38;5;124m\"\u001B[39m\u001B[38;5;124mmfcc13\u001B[39m\u001B[38;5;124m\"\u001B[39m]\n\u001B[0;32m      6\u001B[0m labels \u001B[38;5;241m=\u001B[39m df\u001B[38;5;241m.\u001B[39mloc[:, [\u001B[38;5;124m\"\u001B[39m\u001B[38;5;124mid\u001B[39m\u001B[38;5;124m\"\u001B[39m]]\u001B[38;5;241m.\u001B[39mvalues \u001B[38;5;66;03m#labael dataset\u001B[39;00m\n",
      "\u001B[1;31mNameError\u001B[0m: name 'pd' is not defined"
     ]
    }
   ],
   "source": [
    "df = pd.read_csv(BASE_PATH + \"featuring_extraction.csv\")\n",
    "\n",
    "features_mfcc = [\"mfcc1\", \"mfcc2\", \"mfcc3\", \"mfcc4\", \"mfcc5\", \"mfcc6\", \"mfcc7\", \"mfcc8\", \"mfcc9\", \"mfcc10\", \"mfcc11\",\n",
    "            \"mfcc12\", \"mfcc13\"]\n",
    "\n",
    "labels = df.loc[:, [\"id\"]].values #labael dataset\n",
    "features_mfcc_values = df.loc[:, features_mfcc].values #mfcc dataset\n",
    "\n",
    "total = features_mfcc_values.shape[0] * features_mfcc_values.shape[1]\n",
    "counter = 0\n",
    "correct_dataset_mfcc = []\n",
    "header = []\n",
    "final_matrix = []\n",
    "frames = []\n",
    "\n",
    "for i in range(features_mfcc_values.shape[0]): #row_dataset.append(labels[i])\n",
    "    correct_dataset_mfcc = []\n",
    "    for j in range(features_mfcc_values.shape[1]):\n",
    "        row_dataset = []\n",
    "        features_mfcc_values[i][j] = features_mfcc_values[i][j].split()\n",
    "        for k in range(len(features_mfcc_values[i][j])):\n",
    "            features_mfcc_values[i][j][k] = features_mfcc_values[i][j][k].replace(\"[\", \"\")\n",
    "            features_mfcc_values[i][j][k] = features_mfcc_values[i][j][k].replace(\"]\", \"\")\n",
    "            features_mfcc_values[i][j][k] = features_mfcc_values[i][j][k].replace(\",\", \"\")\n",
    "        for ele in features_mfcc_values[i][j]:\n",
    "            if ele == \"\":\n",
    "                features_mfcc_values[i][j].remove(ele)\n",
    "        for k in range(len(features_mfcc_values[i][j])):\n",
    "            features_mfcc_values[i][j][k] = float(features_mfcc_values[i][j][k])\n",
    "            row_dataset.append(features_mfcc_values[i][j][k])\n",
    "        correct_dataset_mfcc.append(row_dataset)\n",
    "    counter += 1\n",
    "\n",
    "    transposed = np.array(correct_dataset_mfcc).transpose()\n",
    "    frames.append(transposed.shape[0])\n",
    "    for row in transposed:\n",
    "        final_matrix.append(row)\n",
    "\n",
    "    print(counter, \"/\", features_mfcc_values.shape[0])\n",
    "\n",
    "\n",
    "pd.DataFrame(final_matrix).to_csv(BASE_PATH + \"preparing_csv_mfcc.csv\", header=None, index=None)\n",
    "pd.DataFrame(frames).to_csv(BASE_PATH + \"frame_size_mfcc.csv\", header=None, index=None)"
   ],
   "metadata": {
    "collapsed": false,
    "pycharm": {
     "name": "#%%\n"
    }
   }
  },
  {
   "cell_type": "code",
   "execution_count": 3,
   "outputs": [
    {
     "ename": "NameError",
     "evalue": "name 'pd' is not defined",
     "output_type": "error",
     "traceback": [
      "\u001B[1;31m---------------------------------------------------------------------------\u001B[0m",
      "\u001B[1;31mNameError\u001B[0m                                 Traceback (most recent call last)",
      "Input \u001B[1;32mIn [3]\u001B[0m, in \u001B[0;36m<cell line: 2>\u001B[1;34m()\u001B[0m\n\u001B[0;32m      1\u001B[0m \u001B[38;5;66;03m## Creating delta matrix\u001B[39;00m\n\u001B[1;32m----> 2\u001B[0m df \u001B[38;5;241m=\u001B[39m \u001B[43mpd\u001B[49m\u001B[38;5;241m.\u001B[39mread_csv(BASE_PATH \u001B[38;5;241m+\u001B[39m \u001B[38;5;124m\"\u001B[39m\u001B[38;5;124mfeaturing_extraction.csv\u001B[39m\u001B[38;5;124m\"\u001B[39m)\n\u001B[0;32m      4\u001B[0m features_delta \u001B[38;5;241m=\u001B[39m [\u001B[38;5;124m\"\u001B[39m\u001B[38;5;124mdelta1\u001B[39m\u001B[38;5;124m\"\u001B[39m, \u001B[38;5;124m\"\u001B[39m\u001B[38;5;124mdelta2\u001B[39m\u001B[38;5;124m\"\u001B[39m, \u001B[38;5;124m\"\u001B[39m\u001B[38;5;124mdelta3\u001B[39m\u001B[38;5;124m\"\u001B[39m, \u001B[38;5;124m\"\u001B[39m\u001B[38;5;124mdelta4\u001B[39m\u001B[38;5;124m\"\u001B[39m, \u001B[38;5;124m\"\u001B[39m\u001B[38;5;124mdelta5\u001B[39m\u001B[38;5;124m\"\u001B[39m, \u001B[38;5;124m\"\u001B[39m\u001B[38;5;124mdelta6\u001B[39m\u001B[38;5;124m\"\u001B[39m, \u001B[38;5;124m\"\u001B[39m\u001B[38;5;124mdelta7\u001B[39m\u001B[38;5;124m\"\u001B[39m, \u001B[38;5;124m\"\u001B[39m\u001B[38;5;124mdelta8\u001B[39m\u001B[38;5;124m\"\u001B[39m, \u001B[38;5;124m\"\u001B[39m\u001B[38;5;124mdelta9\u001B[39m\u001B[38;5;124m\"\u001B[39m, \u001B[38;5;124m\"\u001B[39m\u001B[38;5;124mdelta10\u001B[39m\u001B[38;5;124m\"\u001B[39m, \u001B[38;5;124m\"\u001B[39m\u001B[38;5;124mdelta11\u001B[39m\u001B[38;5;124m\"\u001B[39m,\n\u001B[0;32m      5\u001B[0m             \u001B[38;5;124m\"\u001B[39m\u001B[38;5;124mdelta12\u001B[39m\u001B[38;5;124m\"\u001B[39m, \u001B[38;5;124m\"\u001B[39m\u001B[38;5;124mdelta13\u001B[39m\u001B[38;5;124m\"\u001B[39m]\n\u001B[0;32m      7\u001B[0m labels \u001B[38;5;241m=\u001B[39m df\u001B[38;5;241m.\u001B[39mloc[:, [\u001B[38;5;124m\"\u001B[39m\u001B[38;5;124mid\u001B[39m\u001B[38;5;124m\"\u001B[39m]]\u001B[38;5;241m.\u001B[39mvalues \u001B[38;5;66;03m#labael dataset\u001B[39;00m\n",
      "\u001B[1;31mNameError\u001B[0m: name 'pd' is not defined"
     ]
    }
   ],
   "source": [
    "## Creating delta matrix\n",
    "df = pd.read_csv(BASE_PATH + \"featuring_extraction.csv\")\n",
    "\n",
    "features_delta = [\"delta1\", \"delta2\", \"delta3\", \"delta4\", \"delta5\", \"delta6\", \"delta7\", \"delta8\", \"delta9\", \"delta10\", \"delta11\",\n",
    "            \"delta12\", \"delta13\"]\n",
    "\n",
    "labels = df.loc[:, [\"id\"]].values #labael dataset\n",
    "features_delta_values = df.loc[:, features_delta].values #mfcc dataset\n",
    "\n",
    "total = features_delta_values.shape[0] * features_delta_values.shape[1]\n",
    "counter = 0\n",
    "correct_dataset_mfcc = []\n",
    "header = []\n",
    "final_matrix = []\n",
    "frames = []\n",
    "\n",
    "for i in range(features_delta_values.shape[0]): #row_dataset.append(labels[i])\n",
    "    correct_dataset_mfcc = []\n",
    "    for j in range(features_delta_values.shape[1]):\n",
    "        row_dataset = []\n",
    "        features_delta_values[i][j] = features_delta_values[i][j].split()\n",
    "        for k in range(len(features_delta_values[i][j])):\n",
    "            features_delta_values[i][j][k] = features_delta_values[i][j][k].replace(\"[\", \"\")\n",
    "            features_delta_values[i][j][k] = features_delta_values[i][j][k].replace(\"]\", \"\")\n",
    "            features_delta_values[i][j][k] = features_delta_values[i][j][k].replace(\",\", \"\")\n",
    "        for ele in features_delta_values[i][j]:\n",
    "            if ele == \"\":\n",
    "                features_delta_values[i][j].remove(ele)\n",
    "        for k in range(len(features_delta_values[i][j])):\n",
    "            features_delta_values[i][j][k] = float(features_delta_values[i][j][k])\n",
    "            row_dataset.append(features_delta_values[i][j][k])\n",
    "        correct_dataset_mfcc.append(row_dataset)\n",
    "    counter += 1\n",
    "\n",
    "    transposed = np.array(correct_dataset_mfcc).transpose()\n",
    "    frames.append(transposed.shape[0])\n",
    "    for row in transposed:\n",
    "        final_matrix.append(row)\n",
    "\n",
    "    print(counter, \"/\", features_delta_values.shape[0])\n",
    "\n",
    "\n",
    "pd.DataFrame(final_matrix).to_csv(BASE_PATH + \"preparing_csv_delta.csv\", header=None, index=None)\n",
    "pd.DataFrame(frames).to_csv(BASE_PATH + \"frame_size_delta.csv\", header=None, index=None)"
   ],
   "metadata": {
    "collapsed": false,
    "pycharm": {
     "name": "#%%\n"
    }
   }
  },
  {
   "cell_type": "markdown",
   "source": [
    "vector quantization con kmeans"
   ],
   "metadata": {
    "collapsed": false,
    "pycharm": {
     "name": "#%% md\n"
    }
   }
  },
  {
   "cell_type": "code",
   "execution_count": 4,
   "outputs": [
    {
     "ename": "NameError",
     "evalue": "name 'np' is not defined",
     "output_type": "error",
     "traceback": [
      "\u001B[1;31m---------------------------------------------------------------------------\u001B[0m",
      "\u001B[1;31mNameError\u001B[0m                                 Traceback (most recent call last)",
      "Input \u001B[1;32mIn [4]\u001B[0m, in \u001B[0;36m<cell line: 3>\u001B[1;34m()\u001B[0m\n\u001B[0;32m      1\u001B[0m \u001B[38;5;28;01mfrom\u001B[39;00m \u001B[38;5;21;01msklearn\u001B[39;00m\u001B[38;5;21;01m.\u001B[39;00m\u001B[38;5;21;01mcluster\u001B[39;00m \u001B[38;5;28;01mimport\u001B[39;00m KMeans\n\u001B[1;32m----> 3\u001B[0m mfcc \u001B[38;5;241m=\u001B[39m \u001B[43mnp\u001B[49m\u001B[38;5;241m.\u001B[39marray(pd\u001B[38;5;241m.\u001B[39mread_csv(BASE_PATH \u001B[38;5;241m+\u001B[39m \u001B[38;5;124m\"\u001B[39m\u001B[38;5;124mpreparing_csv_mfcc.csv\u001B[39m\u001B[38;5;124m\"\u001B[39m, header\u001B[38;5;241m=\u001B[39m\u001B[38;5;28;01mNone\u001B[39;00m))\n\u001B[0;32m      5\u001B[0m model \u001B[38;5;241m=\u001B[39m KMeans(n_clusters\u001B[38;5;241m=\u001B[39mn_cluster)\n\u001B[0;32m      6\u001B[0m model\u001B[38;5;241m.\u001B[39mfit(mfcc)\n",
      "\u001B[1;31mNameError\u001B[0m: name 'np' is not defined"
     ]
    }
   ],
   "source": [
    "from sklearn.cluster import KMeans\n",
    "\n",
    "mfcc = np.array(pd.read_csv(BASE_PATH + \"preparing_csv_mfcc.csv\", header=None))\n",
    "\n",
    "model = KMeans(n_clusters=n_cluster)\n",
    "model.fit(mfcc)\n",
    "\n",
    "print(model.labels_)\n",
    "print(len(model.labels_))\n",
    "\n",
    "labels = model.labels_\n",
    "\n",
    "pd.DataFrame(labels).to_csv(BASE_PATH + \"k\" + str(n_cluster)+ \"\\\\mfcc\\\\labels_quantization.csv\", header=None, index=None)"
   ],
   "metadata": {
    "collapsed": false,
    "pycharm": {
     "name": "#%%\n"
    }
   }
  },
  {
   "cell_type": "code",
   "execution_count": 5,
   "outputs": [
    {
     "ename": "NameError",
     "evalue": "name 'np' is not defined",
     "output_type": "error",
     "traceback": [
      "\u001B[1;31m---------------------------------------------------------------------------\u001B[0m",
      "\u001B[1;31mNameError\u001B[0m                                 Traceback (most recent call last)",
      "Input \u001B[1;32mIn [5]\u001B[0m, in \u001B[0;36m<cell line: 3>\u001B[1;34m()\u001B[0m\n\u001B[0;32m      1\u001B[0m \u001B[38;5;28;01mfrom\u001B[39;00m \u001B[38;5;21;01msklearn\u001B[39;00m\u001B[38;5;21;01m.\u001B[39;00m\u001B[38;5;21;01mcluster\u001B[39;00m \u001B[38;5;28;01mimport\u001B[39;00m KMeans\n\u001B[1;32m----> 3\u001B[0m mfcc \u001B[38;5;241m=\u001B[39m \u001B[43mnp\u001B[49m\u001B[38;5;241m.\u001B[39marray(pd\u001B[38;5;241m.\u001B[39mread_csv(BASE_PATH \u001B[38;5;241m+\u001B[39m \u001B[38;5;124m\"\u001B[39m\u001B[38;5;124mpreparing_csv_delta.csv\u001B[39m\u001B[38;5;124m\"\u001B[39m, header\u001B[38;5;241m=\u001B[39m\u001B[38;5;28;01mNone\u001B[39;00m))\n\u001B[0;32m      5\u001B[0m model \u001B[38;5;241m=\u001B[39m KMeans(n_clusters\u001B[38;5;241m=\u001B[39mn_cluster)\n\u001B[0;32m      6\u001B[0m model\u001B[38;5;241m.\u001B[39mfit(mfcc)\n",
      "\u001B[1;31mNameError\u001B[0m: name 'np' is not defined"
     ]
    }
   ],
   "source": [
    "from sklearn.cluster import KMeans\n",
    "\n",
    "mfcc = np.array(pd.read_csv(BASE_PATH + \"preparing_csv_delta.csv\", header=None))\n",
    "\n",
    "model = KMeans(n_clusters=n_cluster)\n",
    "model.fit(mfcc)\n",
    "\n",
    "print(model.labels_)\n",
    "print(len(model.labels_))\n",
    "\n",
    "labels = model.labels_\n",
    "\n",
    "pd.DataFrame(labels).to_csv(BASE_PATH + \"k\" + str(n_cluster)+ \"\\\\delta\\\\labels_quantization_delta.csv\", header=None, index=None)"
   ],
   "metadata": {
    "collapsed": false,
    "pycharm": {
     "name": "#%%\n"
    }
   }
  },
  {
   "cell_type": "markdown",
   "source": [
    "test set & train set (mfcc)"
   ],
   "metadata": {
    "collapsed": false,
    "pycharm": {
     "name": "#%% md\n"
    }
   }
  },
  {
   "cell_type": "code",
   "execution_count": 6,
   "outputs": [
    {
     "ename": "NameError",
     "evalue": "name 'np' is not defined",
     "output_type": "error",
     "traceback": [
      "\u001B[1;31m---------------------------------------------------------------------------\u001B[0m",
      "\u001B[1;31mNameError\u001B[0m                                 Traceback (most recent call last)",
      "Input \u001B[1;32mIn [6]\u001B[0m, in \u001B[0;36m<cell line: 1>\u001B[1;34m()\u001B[0m\n\u001B[1;32m----> 1\u001B[0m frames \u001B[38;5;241m=\u001B[39m \u001B[43mnp\u001B[49m\u001B[38;5;241m.\u001B[39marray(pd\u001B[38;5;241m.\u001B[39mread_csv(BASE_PATH \u001B[38;5;241m+\u001B[39m \u001B[38;5;124m\"\u001B[39m\u001B[38;5;124mframe_size_mfcc.csv\u001B[39m\u001B[38;5;124m\"\u001B[39m, header\u001B[38;5;241m=\u001B[39m \u001B[38;5;28;01mNone\u001B[39;00m))\u001B[38;5;241m.\u001B[39mreshape((\u001B[38;5;241m1\u001B[39m, \u001B[38;5;241m-\u001B[39m\u001B[38;5;241m1\u001B[39m))\n\u001B[0;32m      2\u001B[0m labels \u001B[38;5;241m=\u001B[39m np\u001B[38;5;241m.\u001B[39marray(pd\u001B[38;5;241m.\u001B[39mread_csv(BASE_PATH \u001B[38;5;241m+\u001B[39m \u001B[38;5;124m\"\u001B[39m\u001B[38;5;124mk\u001B[39m\u001B[38;5;124m\"\u001B[39m \u001B[38;5;241m+\u001B[39m \u001B[38;5;28mstr\u001B[39m(n_cluster)\u001B[38;5;241m+\u001B[39m \u001B[38;5;124m\"\u001B[39m\u001B[38;5;130;01m\\\\\u001B[39;00m\u001B[38;5;124mmfcc\u001B[39m\u001B[38;5;130;01m\\\\\u001B[39;00m\u001B[38;5;124mlabels_quantization_mfcc.csv\u001B[39m\u001B[38;5;124m\"\u001B[39m, header\u001B[38;5;241m=\u001B[39m\u001B[38;5;28;01mNone\u001B[39;00m))\u001B[38;5;241m.\u001B[39mreshape((\u001B[38;5;241m1\u001B[39m, \u001B[38;5;241m-\u001B[39m\u001B[38;5;241m1\u001B[39m))\n\u001B[0;32m      4\u001B[0m frames \u001B[38;5;241m=\u001B[39m np\u001B[38;5;241m.\u001B[39marray(frames[\u001B[38;5;241m0\u001B[39m])\n",
      "\u001B[1;31mNameError\u001B[0m: name 'np' is not defined"
     ]
    }
   ],
   "source": [
    "frames = np.array(pd.read_csv(BASE_PATH + \"frame_size_mfcc.csv\", header= None)).reshape((1, -1))\n",
    "labels = np.array(pd.read_csv(BASE_PATH + \"k\" + str(n_cluster)+ \"\\\\mfcc\\\\labels_quantization_mfcc.csv\", header=None)).reshape((1, -1))\n",
    "\n",
    "frames = np.array(frames[0])\n",
    "labels = np.array(labels[0])\n",
    "vector_complete = []\n",
    "\n",
    "prec = 0\n",
    "\n",
    "for index in frames:\n",
    "    vector_complete.append(labels[prec:prec+index])\n",
    "    prec += index\n",
    "\n",
    "vector_complete = np.array(pd.DataFrame(vector_complete))\n",
    "\n",
    "index = 0\n",
    "for row in vector_complete:\n",
    "    row_counter = 0\n",
    "    for i in range(len(row)):\n",
    "        if np.isnan(row[i]):\n",
    "            row[i] = row[row_counter]\n",
    "            row_counter+=1\n",
    "    index += 1\n",
    "    #print(index)\n",
    "print(vector_complete)\n",
    "\n",
    "pd.DataFrame(vector_complete).to_csv(BASE_PATH + \"k\" + str(n_cluster)+ \"\\\\mfcc\\\\matrix_quantization_filled.csv\")\n"
   ],
   "metadata": {
    "collapsed": false,
    "pycharm": {
     "name": "#%%\n"
    }
   }
  },
  {
   "cell_type": "code",
   "execution_count": null,
   "outputs": [],
   "source": [
    "observations = np.array(pd.read_csv(BASE_PATH + \"k\" + str(n_cluster)+ \"\\\\mfcc\\\\matrix_quantization_filled.csv\"))\n",
    "observations = np.delete(observations, 0, axis=1)\n",
    "\n",
    "index = 0\n",
    "train_set = []\n",
    "test_set = []\n",
    "for row in observations:\n",
    "    if 0 <= index <= 34:\n",
    "        train_set.append(row)\n",
    "        index+=1\n",
    "    elif index <= 38:\n",
    "        test_set.append(row)\n",
    "        index+=1\n",
    "    elif index == 39:\n",
    "        test_set.append(row)\n",
    "        index = 0\n",
    "\n",
    "test_set = np.array(test_set)\n",
    "train_set = np.array(train_set)\n",
    "\n",
    "\n",
    "pd.DataFrame(train_set).to_csv(BASE_PATH + \"k\" + str(n_cluster)+ \"\\\\mfcc\\\\train_set_hmm.csv\")\n",
    "pd.DataFrame(test_set).to_csv(BASE_PATH + \"k\" + str(n_cluster)+ \"\\\\mfcc\\\\test_set_hmm.csv\")"
   ],
   "metadata": {
    "collapsed": false,
    "pycharm": {
     "name": "#%%\n"
    }
   }
  },
  {
   "cell_type": "markdown",
   "source": [
    "train & test set (delta)"
   ],
   "metadata": {
    "collapsed": false
   }
  },
  {
   "cell_type": "code",
   "execution_count": 7,
   "outputs": [
    {
     "ename": "NameError",
     "evalue": "name 'np' is not defined",
     "output_type": "error",
     "traceback": [
      "\u001B[1;31m---------------------------------------------------------------------------\u001B[0m",
      "\u001B[1;31mNameError\u001B[0m                                 Traceback (most recent call last)",
      "Input \u001B[1;32mIn [7]\u001B[0m, in \u001B[0;36m<cell line: 1>\u001B[1;34m()\u001B[0m\n\u001B[1;32m----> 1\u001B[0m frames \u001B[38;5;241m=\u001B[39m \u001B[43mnp\u001B[49m\u001B[38;5;241m.\u001B[39marray(pd\u001B[38;5;241m.\u001B[39mread_csv(BASE_PATH \u001B[38;5;241m+\u001B[39m \u001B[38;5;124m\"\u001B[39m\u001B[38;5;124mframe_size_delta.csv\u001B[39m\u001B[38;5;124m\"\u001B[39m, header\u001B[38;5;241m=\u001B[39m \u001B[38;5;28;01mNone\u001B[39;00m))\u001B[38;5;241m.\u001B[39mreshape((\u001B[38;5;241m1\u001B[39m, \u001B[38;5;241m-\u001B[39m\u001B[38;5;241m1\u001B[39m))\n\u001B[0;32m      2\u001B[0m labels \u001B[38;5;241m=\u001B[39m np\u001B[38;5;241m.\u001B[39marray(pd\u001B[38;5;241m.\u001B[39mread_csv(BASE_PATH \u001B[38;5;241m+\u001B[39m \u001B[38;5;124m\"\u001B[39m\u001B[38;5;124mk\u001B[39m\u001B[38;5;124m\"\u001B[39m \u001B[38;5;241m+\u001B[39m \u001B[38;5;28mstr\u001B[39m(n_cluster)\u001B[38;5;241m+\u001B[39m \u001B[38;5;124m\"\u001B[39m\u001B[38;5;130;01m\\\\\u001B[39;00m\u001B[38;5;124mdelta\u001B[39m\u001B[38;5;130;01m\\\\\u001B[39;00m\u001B[38;5;124mlabels_quantization_delta.csv\u001B[39m\u001B[38;5;124m\"\u001B[39m, header\u001B[38;5;241m=\u001B[39m\u001B[38;5;28;01mNone\u001B[39;00m))\u001B[38;5;241m.\u001B[39mreshape((\u001B[38;5;241m1\u001B[39m, \u001B[38;5;241m-\u001B[39m\u001B[38;5;241m1\u001B[39m))\n\u001B[0;32m      4\u001B[0m frames \u001B[38;5;241m=\u001B[39m np\u001B[38;5;241m.\u001B[39marray(frames[\u001B[38;5;241m0\u001B[39m])\n",
      "\u001B[1;31mNameError\u001B[0m: name 'np' is not defined"
     ]
    }
   ],
   "source": [
    "frames = np.array(pd.read_csv(BASE_PATH + \"frame_size_delta.csv\", header= None)).reshape((1, -1))\n",
    "labels = np.array(pd.read_csv(BASE_PATH + \"k\" + str(n_cluster)+ \"\\\\delta\\\\labels_quantization_delta.csv\", header=None)).reshape((1, -1))\n",
    "\n",
    "frames = np.array(frames[0])\n",
    "labels = np.array(labels[0])\n",
    "vector_complete = []\n",
    "\n",
    "prec = 0\n",
    "\n",
    "for index in frames:\n",
    "    vector_complete.append(labels[prec:prec+index])\n",
    "    prec += index\n",
    "\n",
    "vector_complete = np.array(pd.DataFrame(vector_complete))\n",
    "\n",
    "index = 0\n",
    "for row in vector_complete:\n",
    "    row_counter = 0\n",
    "    for i in range(len(row)):\n",
    "        if np.isnan(row[i]):\n",
    "            row[i] = row[row_counter]\n",
    "            row_counter+=1\n",
    "    index += 1\n",
    "    #print(index)\n",
    "print(vector_complete)\n",
    "\n",
    "pd.DataFrame(vector_complete).to_csv(BASE_PATH + \"k\" + str(n_cluster)+ \"\\\\delta\\\\matrix_quantization_filled_delta.csv\")\n"
   ],
   "metadata": {
    "collapsed": false,
    "pycharm": {
     "name": "#%%\n"
    }
   }
  },
  {
   "cell_type": "code",
   "execution_count": 8,
   "outputs": [
    {
     "ename": "NameError",
     "evalue": "name 'np' is not defined",
     "output_type": "error",
     "traceback": [
      "\u001B[1;31m---------------------------------------------------------------------------\u001B[0m",
      "\u001B[1;31mNameError\u001B[0m                                 Traceback (most recent call last)",
      "Input \u001B[1;32mIn [8]\u001B[0m, in \u001B[0;36m<cell line: 1>\u001B[1;34m()\u001B[0m\n\u001B[1;32m----> 1\u001B[0m observations \u001B[38;5;241m=\u001B[39m \u001B[43mnp\u001B[49m\u001B[38;5;241m.\u001B[39marray(pd\u001B[38;5;241m.\u001B[39mread_csv(BASE_PATH \u001B[38;5;241m+\u001B[39m \u001B[38;5;124m\"\u001B[39m\u001B[38;5;124mk\u001B[39m\u001B[38;5;124m\"\u001B[39m \u001B[38;5;241m+\u001B[39m \u001B[38;5;28mstr\u001B[39m(n_cluster)\u001B[38;5;241m+\u001B[39m \u001B[38;5;124m\"\u001B[39m\u001B[38;5;130;01m\\\\\u001B[39;00m\u001B[38;5;124mdelta\u001B[39m\u001B[38;5;130;01m\\\\\u001B[39;00m\u001B[38;5;124mmatrix_quantization_filled_delta.csv\u001B[39m\u001B[38;5;124m\"\u001B[39m))\n\u001B[0;32m      2\u001B[0m observations \u001B[38;5;241m=\u001B[39m np\u001B[38;5;241m.\u001B[39mdelete(observations, \u001B[38;5;241m0\u001B[39m, axis\u001B[38;5;241m=\u001B[39m\u001B[38;5;241m1\u001B[39m)\n\u001B[0;32m      4\u001B[0m index \u001B[38;5;241m=\u001B[39m \u001B[38;5;241m0\u001B[39m\n",
      "\u001B[1;31mNameError\u001B[0m: name 'np' is not defined"
     ]
    }
   ],
   "source": [
    "observations = np.array(pd.read_csv(BASE_PATH + \"k\" + str(n_cluster)+ \"\\\\delta\\\\matrix_quantization_filled_delta.csv\"))\n",
    "observations = np.delete(observations, 0, axis=1)\n",
    "\n",
    "index = 0\n",
    "train_set = []\n",
    "test_set = []\n",
    "for row in observations:\n",
    "    if 0 <= index <= 34:\n",
    "        train_set.append(row)\n",
    "        index+=1\n",
    "    elif index <= 38:\n",
    "        test_set.append(row)\n",
    "        index+=1\n",
    "    elif index == 39:\n",
    "        test_set.append(row)\n",
    "        index = 0\n",
    "\n",
    "test_set = np.array(test_set)\n",
    "train_set = np.array(train_set)\n",
    "\n",
    "\n",
    "pd.DataFrame(train_set).to_csv(BASE_PATH + \"k\" + str(n_cluster)+ \"\\\\delta\\\\train_set_hmm_delta.csv\")\n",
    "pd.DataFrame(test_set).to_csv(BASE_PATH + \"k\" + str(n_cluster)+ \"\\\\delta\\\\test_set_hmm_delta.csv\")"
   ],
   "metadata": {
    "collapsed": false,
    "pycharm": {
     "name": "#%%\n"
    }
   }
  },
  {
   "cell_type": "markdown",
   "source": [
    "prediction with personal hmm"
   ],
   "metadata": {
    "collapsed": false
   }
  },
  {
   "cell_type": "code",
   "execution_count": 9,
   "outputs": [
    {
     "ename": "NameError",
     "evalue": "name 'pd' is not defined",
     "output_type": "error",
     "traceback": [
      "\u001B[1;31m---------------------------------------------------------------------------\u001B[0m",
      "\u001B[1;31mNameError\u001B[0m                                 Traceback (most recent call last)",
      "Input \u001B[1;32mIn [9]\u001B[0m, in \u001B[0;36m<cell line: 1>\u001B[1;34m()\u001B[0m\n\u001B[1;32m----> 1\u001B[0m quantization_matrix \u001B[38;5;241m=\u001B[39m \u001B[43mpd\u001B[49m\u001B[38;5;241m.\u001B[39mread_csv(BASE_PATH \u001B[38;5;241m+\u001B[39m\u001B[38;5;124m\"\u001B[39m\u001B[38;5;124mk\u001B[39m\u001B[38;5;124m\"\u001B[39m \u001B[38;5;241m+\u001B[39m \u001B[38;5;28mstr\u001B[39m(n_cluster)\u001B[38;5;241m+\u001B[39m \u001B[38;5;124m\"\u001B[39m\u001B[38;5;130;01m\\\\\u001B[39;00m\u001B[38;5;124mmfcc\u001B[39m\u001B[38;5;130;01m\\\\\u001B[39;00m\u001B[38;5;124mtrain_set_hmm_mfcc.csv\u001B[39m\u001B[38;5;124m\"\u001B[39m)\n\u001B[0;32m      2\u001B[0m quantization_matrix \u001B[38;5;241m=\u001B[39m np\u001B[38;5;241m.\u001B[39marray(quantization_matrix, dtype\u001B[38;5;241m=\u001B[39m\u001B[38;5;28mint\u001B[39m)\n\u001B[0;32m      3\u001B[0m quantization_matrix \u001B[38;5;241m=\u001B[39m np\u001B[38;5;241m.\u001B[39mdelete(quantization_matrix, \u001B[38;5;241m0\u001B[39m, \u001B[38;5;241m1\u001B[39m)\n",
      "\u001B[1;31mNameError\u001B[0m: name 'pd' is not defined"
     ]
    }
   ],
   "source": [
    "quantization_matrix = pd.read_csv(BASE_PATH +\"k\" + str(n_cluster)+ \"\\\\mfcc\\\\train_set_hmm_mfcc.csv\")\n",
    "quantization_matrix = np.array(quantization_matrix, dtype=int)\n",
    "quantization_matrix = np.delete(quantization_matrix, 0, 1)\n",
    "\n",
    "## building transition matrix\n",
    "for person in range(300):\n",
    "    starting_matrix = np.zeros((n_cluster,))\n",
    "    observation_matrix = np.zeros((n_cluster, n_cluster))\n",
    "\n",
    "    for audio_person in range(35):\n",
    "\n",
    "        actual_audio = quantization_matrix[person*35 + audio_person]\n",
    "        for frame in range(2806-1):\n",
    "\n",
    "            if frame == 0:\n",
    "                starting_matrix[actual_audio[frame]] +=1/35\n",
    "\n",
    "            observation_matrix[actual_audio[frame]][actual_audio[frame+1]] += 1\n",
    "\n",
    "    for row in observation_matrix:\n",
    "        sum_row = sum(row)\n",
    "        for col in range(len(row)):\n",
    "            row[col] = row[col] / sum_row\n",
    "\n",
    "\n",
    "    observation_matrix = pd.DataFrame(observation_matrix).fillna(0)\n",
    "    observation_matrix.to_csv(BASE_PATH + \"k\" + str(n_cluster)+ \"\\\\mfcc\\\\matrix\\\\quan_mat_\" + str(person) +\".csv\", header=None, index=None)\n",
    "    starting_matrix = pd.DataFrame(starting_matrix).fillna(0)\n",
    "    starting_matrix.to_csv(BASE_PATH + \"k\" + str(n_cluster)+ \"\\\\mfcc\\\\matrix\\\\start_mat_\" + str(person) +\".csv\", header=None, index=None)"
   ],
   "metadata": {
    "collapsed": false,
    "pycharm": {
     "name": "#%%\n"
    }
   }
  },
  {
   "cell_type": "code",
   "execution_count": 6,
   "outputs": [
    {
     "name": "stderr",
     "output_type": "stream",
     "text": [
      "C:\\Users\\alexp\\AppData\\Local\\Temp\\ipykernel_37056\\4009770760.py:23: RuntimeWarning: invalid value encountered in double_scalars\n",
      "  row[col] = row[col] / sum_row\n"
     ]
    }
   ],
   "source": [
    "quantization_matrix = pd.read_csv(BASE_PATH +\"k\" + str(n_cluster)+ \"\\\\delta\\\\train_set_hmm_delta.csv\")\n",
    "quantization_matrix = np.array(quantization_matrix, dtype=int)\n",
    "quantization_matrix = np.delete(quantization_matrix, 0, 1)\n",
    "\n",
    "## building transition matrix\n",
    "for person in range(300):\n",
    "    starting_matrix = np.zeros((n_cluster,))\n",
    "    observation_matrix = np.zeros((n_cluster, n_cluster))\n",
    "\n",
    "    for audio_person in range(35):\n",
    "\n",
    "        actual_audio = quantization_matrix[person*35 + audio_person]\n",
    "        for frame in range(2806-1):\n",
    "\n",
    "            if frame == 0:\n",
    "                starting_matrix[actual_audio[frame]] +=1/35\n",
    "\n",
    "            observation_matrix[actual_audio[frame]][actual_audio[frame+1]] += 1\n",
    "\n",
    "    for row in observation_matrix:\n",
    "        sum_row = sum(row)\n",
    "        for col in range(len(row)):\n",
    "            row[col] = row[col] / sum_row\n",
    "\n",
    "\n",
    "    observation_matrix = pd.DataFrame(observation_matrix).fillna(0)\n",
    "    observation_matrix.to_csv(BASE_PATH + \"k\" + str(n_cluster)+ \"\\\\delta\\\\matrix\\\\quan_mat_\" + str(person) +\".csv\", header=None, index=None)\n",
    "    starting_matrix = pd.DataFrame(starting_matrix).fillna(0)\n",
    "    starting_matrix.to_csv(BASE_PATH + \"k\" + str(n_cluster)+ \"\\\\delta\\\\matrix\\\\start_mat_\" + str(person) +\".csv\", header=None, index=None)"
   ],
   "metadata": {
    "collapsed": false,
    "pycharm": {
     "name": "#%%\n"
    }
   }
  },
  {
   "cell_type": "code",
   "execution_count": 10,
   "outputs": [
    {
     "ename": "NameError",
     "evalue": "name 'np' is not defined",
     "output_type": "error",
     "traceback": [
      "\u001B[1;31m---------------------------------------------------------------------------\u001B[0m",
      "\u001B[1;31mNameError\u001B[0m                                 Traceback (most recent call last)",
      "Input \u001B[1;32mIn [10]\u001B[0m, in \u001B[0;36m<cell line: 24>\u001B[1;34m()\u001B[0m\n\u001B[0;32m     40\u001B[0m actual \u001B[38;5;241m=\u001B[39m \u001B[38;5;241m0\u001B[39m\n\u001B[0;32m     41\u001B[0m \u001B[38;5;28;01mfor\u001B[39;00m i \u001B[38;5;129;01min\u001B[39;00m \u001B[38;5;28mrange\u001B[39m(shift, shift\u001B[38;5;241m+\u001B[39mperson):\n\u001B[1;32m---> 42\u001B[0m     matrix\u001B[38;5;241m.\u001B[39mappend(\u001B[43mnp\u001B[49m\u001B[38;5;241m.\u001B[39marray(pd\u001B[38;5;241m.\u001B[39mread_csv(BASE_PATH \u001B[38;5;241m+\u001B[39m \u001B[38;5;124m\"\u001B[39m\u001B[38;5;124mk\u001B[39m\u001B[38;5;124m\"\u001B[39m \u001B[38;5;241m+\u001B[39m \u001B[38;5;28mstr\u001B[39m(n_cluster)\u001B[38;5;241m+\u001B[39m \u001B[38;5;124m\"\u001B[39m\u001B[38;5;130;01m\\\\\u001B[39;00m\u001B[38;5;124mmfcc\u001B[39m\u001B[38;5;130;01m\\\\\u001B[39;00m\u001B[38;5;124mmatrix\u001B[39m\u001B[38;5;130;01m\\\\\u001B[39;00m\u001B[38;5;124mquan_mat_\u001B[39m\u001B[38;5;124m\"\u001B[39m\u001B[38;5;241m+\u001B[39m\u001B[38;5;28mstr\u001B[39m(i) \u001B[38;5;241m+\u001B[39m \u001B[38;5;124m\"\u001B[39m\u001B[38;5;124m.csv\u001B[39m\u001B[38;5;124m\"\u001B[39m, header\u001B[38;5;241m=\u001B[39m\u001B[38;5;28;01mNone\u001B[39;00m), dtype\u001B[38;5;241m=\u001B[39m\u001B[38;5;28mfloat\u001B[39m))\n\u001B[0;32m     43\u001B[0m     starting_matrix\u001B[38;5;241m.\u001B[39mappend(np\u001B[38;5;241m.\u001B[39marray(pd\u001B[38;5;241m.\u001B[39mread_csv(BASE_PATH \u001B[38;5;241m+\u001B[39m \u001B[38;5;124m\"\u001B[39m\u001B[38;5;124mk\u001B[39m\u001B[38;5;124m\"\u001B[39m \u001B[38;5;241m+\u001B[39m \u001B[38;5;28mstr\u001B[39m(n_cluster)\u001B[38;5;241m+\u001B[39m \u001B[38;5;124m\"\u001B[39m\u001B[38;5;130;01m\\\\\u001B[39;00m\u001B[38;5;124mmfcc\u001B[39m\u001B[38;5;130;01m\\\\\u001B[39;00m\u001B[38;5;124mmatrix\u001B[39m\u001B[38;5;130;01m\\\\\u001B[39;00m\u001B[38;5;124mstart_mat_\u001B[39m\u001B[38;5;124m\"\u001B[39m\u001B[38;5;241m+\u001B[39m\u001B[38;5;28mstr\u001B[39m(\u001B[38;5;241m+\u001B[39mi)\u001B[38;5;241m+\u001B[39m\u001B[38;5;124m\"\u001B[39m\u001B[38;5;124m.csv\u001B[39m\u001B[38;5;124m\"\u001B[39m, header\u001B[38;5;241m=\u001B[39m\u001B[38;5;28;01mNone\u001B[39;00m), dtype\u001B[38;5;241m=\u001B[39m\u001B[38;5;28mfloat\u001B[39m))\n\u001B[0;32m     45\u001B[0m test_set_mfcc \u001B[38;5;241m=\u001B[39m np\u001B[38;5;241m.\u001B[39marray(pd\u001B[38;5;241m.\u001B[39mread_csv(BASE_PATH \u001B[38;5;241m+\u001B[39m\u001B[38;5;124m\"\u001B[39m\u001B[38;5;124mk\u001B[39m\u001B[38;5;124m\"\u001B[39m \u001B[38;5;241m+\u001B[39m \u001B[38;5;28mstr\u001B[39m(n_cluster)\u001B[38;5;241m+\u001B[39m \u001B[38;5;124m\"\u001B[39m\u001B[38;5;130;01m\\\\\u001B[39;00m\u001B[38;5;124mmfcc\u001B[39m\u001B[38;5;130;01m\\\\\u001B[39;00m\u001B[38;5;124mtest_set_hmm_mfcc.csv\u001B[39m\u001B[38;5;124m\"\u001B[39m), dtype\u001B[38;5;241m=\u001B[39m\u001B[38;5;28mint\u001B[39m)\n",
      "\u001B[1;31mNameError\u001B[0m: name 'np' is not defined"
     ]
    }
   ],
   "source": [
    "## Compute likehood\n",
    "import warnings\n",
    "#warnings.filterwarnings(\"ignore\")\n",
    "\n",
    "def find_probability(obsservation_matrix, starting_matrix, sequence, ac_frame):\n",
    "    prob = 1\n",
    "    for i in range(len(sequence)-1):\n",
    "        if ac_frame == 0:\n",
    "            starting_prob = starting_matrix[sequence[0]]\n",
    "            if starting_prob == 0:\n",
    "                starting_prob = 1/len(sequence) #0.001\n",
    "            prob = prob * starting_prob\n",
    "\n",
    "        mov_prov = obsservation_matrix[sequence[i]][sequence[i+1]]\n",
    "        if mov_prov == 0:\n",
    "            mov_prov = 1/obsservation_matrix.shape[0]# 0.0001\n",
    "        prob = prob * mov_prov\n",
    "\n",
    "    return np.log(prob)\n",
    "\n",
    "\n",
    "\n",
    "value_nspeaker = []\n",
    "for person in [2, 3, 5, 10, 50]:\n",
    "    #print(person)\n",
    "    mean = []\n",
    "\n",
    "    for shift in range(0, 300-person, person):\n",
    "        correct_label = []\n",
    "        for i in range(person):\n",
    "            for j in range(5):\n",
    "                correct_label.append(i)\n",
    "\n",
    "        matrix = []\n",
    "        starting_matrix = []\n",
    "\n",
    "        matrix_delta = []\n",
    "        starting_matrix_delta = []\n",
    "\n",
    "        actual = 0\n",
    "        for i in range(shift, shift+person):\n",
    "            matrix.append(np.array(pd.read_csv(BASE_PATH + \"k\" + str(n_cluster)+ \"\\\\mfcc\\\\matrix\\\\quan_mat_\"+str(i) + \".csv\", header=None), dtype=float))\n",
    "            starting_matrix.append(np.array(pd.read_csv(BASE_PATH + \"k\" + str(n_cluster)+ \"\\\\mfcc\\\\matrix\\\\start_mat_\"+str(+i)+\".csv\", header=None), dtype=float))\n",
    "\n",
    "        test_set_mfcc = np.array(pd.read_csv(BASE_PATH +\"k\" + str(n_cluster)+ \"\\\\mfcc\\\\test_set_hmm_mfcc.csv\"), dtype=int)\n",
    "        test_set_mfcc = np.delete(test_set_mfcc, 0, axis=1)\n",
    "\n",
    "        for i in range(shift, shift+person):\n",
    "            matrix_delta.append(np.array(pd.read_csv(BASE_PATH + \"k\" + str(n_cluster)+ \"\\\\delta\\\\matrix\\\\quan_mat_\"+str(i) + \".csv\", header=None), dtype=float))\n",
    "            starting_matrix_delta.append(np.array(pd.read_csv(BASE_PATH + \"k\" + str(n_cluster)+ \"\\\\delta\\\\matrix\\\\start_mat_\"+str(+i)+\".csv\", header=None), dtype=float))\n",
    "\n",
    "        test_set_delta = np.array(pd.read_csv(BASE_PATH +\"k\" + str(n_cluster)+ \"\\\\delta\\\\test_set_hmm_delta.csv\"), dtype=int)\n",
    "        test_set_delta = np.delete(test_set_delta, 0, axis=1)\n",
    "\n",
    "\n",
    "        corrected = 0\n",
    "        test_set_frames_mfcc = test_set_mfcc[shift*5: (shift*5)+5*person]\n",
    "        test_set_frames_delta = test_set_delta[shift*5: (shift*5)+5*person]\n",
    "\n",
    "        for audio in range(5*person):\n",
    "            sum_prediction = []\n",
    "            current = 0\n",
    "            for frame in range(1,100):\n",
    "                scores_mfcc = []\n",
    "                scores_delta = []\n",
    "\n",
    "                for n_model in range(person):\n",
    "                    scores_mfcc.append(find_probability(matrix[n_model], starting_matrix[n_model],test_set_frames_mfcc[audio][current:frame*20], current))\n",
    "\n",
    "                for n_model in range(person):\n",
    "                    scores_delta.append(find_probability(matrix_delta[n_model], starting_matrix_delta[n_model], test_set_frames_delta[audio][current:frame*20], current))\n",
    "\n",
    "                predict_mfcc = max(scores_mfcc)\n",
    "                predict_delta = max(scores_delta)\n",
    "\n",
    "                index_best_mfcc = scores_mfcc.index(predict_mfcc)\n",
    "                index_best_delta = scores_delta.index(predict_delta)\n",
    "\n",
    "                sum_prediction.append(index_best_mfcc)\n",
    "                sum_prediction.append(index_best_delta)\n",
    "\n",
    "                current+=20\n",
    "\n",
    "            occurrence = Counter(sum_prediction)\n",
    "            if correct_label[audio] == occurrence.most_common(1)[0][0]: corrected+=1\n",
    "        mean.append(corrected/(5*person))\n",
    "        #print(corrected/(5*person))\n",
    "\n",
    "\n",
    "    print(\"n_person = \", person,\" sequence = \", mean,\" max = \", max(mean),\" mean = \", np.mean(mean))\n",
    "    value_nspeaker.append(np.mean(mean))\n",
    "\n",
    "print(value_nspeaker)"
   ],
   "metadata": {
    "collapsed": false,
    "pycharm": {
     "name": "#%%\n"
    }
   }
  },
  {
   "cell_type": "markdown",
   "source": [
    "prediction with hmm libreria"
   ],
   "metadata": {
    "collapsed": false
   }
  },
  {
   "cell_type": "code",
   "execution_count": 101,
   "outputs": [],
   "source": [
    "quantization_matrix = pd.read_csv(BASE_PATH +\"k200\\\\train_set_hmm.csv\")\n",
    "quantization_matrix = np.array(quantization_matrix, dtype=int)\n",
    "quantization_matrix = np.delete(quantization_matrix, 0, 1)\n",
    "\n",
    "test_set = np.array(pd.read_csv(BASE_PATH +\"k200\\\\test_set_hmm.csv\"), dtype=int)\n",
    "test_set = np.delete(test_set, 0, axis=1)\n",
    "\n",
    "n_states = 6\n",
    "matrix = []\n",
    "actual = 0\n",
    "\n",
    "correct_label = []\n",
    "for i in range(10):\n",
    "    for j in range(5):\n",
    "        correct_label.append(i)\n",
    "\n",
    "for person in range(10):\n",
    "    train_set = quantization_matrix[actual: actual +35]\n",
    "    model = hmm.MultinomialHMM(n_components=n_states)\n",
    "    model.fit(train_set)\n",
    "    matrix.append(model)\n",
    "    actual+=35\n"
   ],
   "metadata": {
    "collapsed": false,
    "pycharm": {
     "name": "#%%\n"
    }
   }
  },
  {
   "cell_type": "code",
   "execution_count": 103,
   "outputs": [
    {
     "name": "stdout",
     "output_type": "stream",
     "text": [
      "0.8\n"
     ]
    }
   ],
   "source": [
    "person = 3\n",
    "corrected = 0\n",
    "test_set_frames = test_set[0: 5*person]\n",
    "for audio in range(5*person):\n",
    "    sum_prediction = []\n",
    "    current = 0\n",
    "    for frame in range(1,100):\n",
    "        scores = []\n",
    "\n",
    "        for n_model in range(person):\n",
    "            try:\n",
    "                array = [test_set_frames[audio][current:frame*20]]\n",
    "                #print(array)\n",
    "                score = matrix[n_model].score(array)\n",
    "            except IndexError:\n",
    "                score = float(\"-inf\")\n",
    "            scores.append(score)\n",
    "\n",
    "        current+=20\n",
    "        predict = max(scores)\n",
    "        index_best = scores.index(predict)\n",
    "        sum_prediction.append(index_best)\n",
    "\n",
    "\n",
    "    occurrence = Counter(sum_prediction)\n",
    "\n",
    "\n",
    "    if correct_label[audio] == occurrence.most_common(1)[0][0]: corrected+=1\n",
    "\n",
    "print(corrected/(5*person))"
   ],
   "metadata": {
    "collapsed": false,
    "pycharm": {
     "name": "#%%\n"
    }
   }
  },
  {
   "cell_type": "markdown",
   "source": [
    "prediction with knn"
   ],
   "metadata": {
    "collapsed": false
   }
  },
  {
   "cell_type": "code",
   "execution_count": 17,
   "outputs": [
    {
     "name": "stdout",
     "output_type": "stream",
     "text": [
      "(105, 2)\n",
      "(15, 2)\n",
      "[0.95238095 0.71428571]\n",
      "[0.26666667 0.71428571]\n",
      "[0.95238095 0.71428571]\n",
      "[0.26666667 0.33333333]\n"
     ]
    },
    {
     "data": {
      "text/plain": "<Figure size 432x288 with 1 Axes>",
      "image/png": "[encoded data removed]"
     },
     "metadata": {
      "needs_background": "light"
     },
     "output_type": "display_data"
    }
   ],
   "source": [
    "# from sklearn.neighbors import KNeighborsClassifier\n",
    "# import matplotlib.pyplot as plt\n",
    "#\n",
    "# person = 3\n",
    "#\n",
    "# X_train = train_set[: person*35, :2]\n",
    "# print(X_train.shape)\n",
    "# X_test = test_set[:person*5, :2]\n",
    "# print(X_test.shape)\n",
    "#\n",
    "# y_train = []\n",
    "# for i in range(person):\n",
    "#     for j in range(35):\n",
    "#         y_train.append(i)\n",
    "#\n",
    "# y_test = []\n",
    "# for i in range(person):\n",
    "#     for j in range(5):\n",
    "#         y_test.append(i)\n",
    "#\n",
    "#\n",
    "# # Split into training and test set\n",
    "# neighbors = np.arange(1, person)\n",
    "# train_accuracy = np.empty(len(neighbors))\n",
    "# test_accuracy = np.empty(len(neighbors))\n",
    "#\n",
    "# # Loop over K values\n",
    "# for i, k in enumerate(neighbors):\n",
    "#     knn = KNeighborsClassifier(n_neighbors=k)\n",
    "#     knn.fit(X_train, y_train)\n",
    "#\n",
    "#     # Compute training and test data accuracy\n",
    "#     train_accuracy[i] = knn.score(X_train, y_train)\n",
    "#     test_accuracy[i] = knn.score(X_test, y_test)\n",
    "#     print(train_accuracy)\n",
    "#     print(test_accuracy)\n",
    "#\n",
    "# # Generate plot\n",
    "# plt.plot(neighbors, test_accuracy, label = 'Testing dataset Accuracy')\n",
    "# plt.plot(neighbors, train_accuracy, label = 'Training dataset Accuracy')\n",
    "#\n",
    "# plt.legend()\n",
    "# plt.xlabel('n_neighbors')\n",
    "# plt.ylabel('Accuracy')\n",
    "# plt.show()"
   ],
   "metadata": {
    "collapsed": false,
    "pycharm": {
     "name": "#%%\n"
    }
   }
  }
 ]
}