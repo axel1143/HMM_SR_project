{
 "nbformat": 4,
 "nbformat_minor": 0,
 "metadata": {
  "colab": {
   "name": "FVAB_HMMs_SR_Project.ipynb",
   "provenance": [],
   "collapsed_sections": []
  },
  "kernelspec": {
   "name": "python3",
   "display_name": "Python 3"
  },
  "language_info": {
   "name": "python"
  }
 },
 "cells": [
  {
   "cell_type": "markdown",
   "source": [
    "All import"
   ],
   "metadata": {
    "id": "_1FS1YYnxJoy",
    "pycharm": {
     "name": "#%% md\n"
    }
   }
  },
  {
   "cell_type": "code",
   "source": [
    "import librosa as lb\n",
    "import librosa.display as display\n",
    "import librosa.effects as effects\n",
    "import numpy as np\n",
    "import csv as csv\n",
    "import os\n",
    "import matplotlib.pyplot as plt\n",
    "import pandas as pd\n",
    "from IPython.display import Audio\n",
    "from sklearn.preprocessing import StandardScaler\n",
    "from sklearn.decomposition import PCA\n",
    "from sklearn.impute import SimpleImputer\n",
    "from hmmlearn import hmm\n",
    "from hmmlearn import base\n",
    "from numpy import genfromtxt\n",
    "import sys"
   ],
   "metadata": {
    "id": "mKs7zKLIw8eK",
    "pycharm": {
     "name": "#%%\n"
    }
   },
   "execution_count": 1,
   "outputs": []
  },
  {
   "cell_type": "markdown",
   "source": [
    "defining pre_processing"
   ],
   "metadata": {
    "id": "mNa_-OsWxMjb",
    "pycharm": {
     "name": "#%% md\n"
    }
   }
  },
  {
   "cell_type": "code",
   "execution_count": 2,
   "outputs": [],
   "source": [
    "\n",
    "def pre_processing(path):\n",
    "  #load\n",
    "  audio, sr = lb.load(path = path, mono = True)\n",
    "\n",
    "  #pre-emp\n",
    "  pre_emp_audio = effects.preemphasis(audio, 0.97)\n",
    "\n",
    "\n",
    "  #removing silence in audio\n",
    "  clips = effects.split(pre_emp_audio, top_db=25)\n",
    "  silenced=[]\n",
    "  for c in clips:\n",
    "    data = audio[c[0]: c[1]]\n",
    "    silenced.extend(data)\n",
    "\n",
    "  silence = np.array(silenced)\n",
    "\n",
    "\n",
    "\n",
    "  return silence, sr\n",
    "\n",
    "EXAMPLE_PATH = \"/home/axel1143/Scrivania/Voxceleb_wav/wav/id10261/1suWlhhvRcs/00011.wav\"\n",
    "BASE_TRAINING_PATH=\"/home/axel1143/Scrivania/Voxceleb_wav/wav/\"\n",
    "BASE_PATH = \"C:\\\\Users\\\\alexp\\\\Desktop\\\\Voxceleb_mat\\\\\""
   ],
   "metadata": {
    "collapsed": false,
    "pycharm": {
     "name": "#%%\n"
    }
   }
  },
  {
   "cell_type": "markdown",
   "source": [
    "**(example)** calculating mfcc, delta, delta2"
   ],
   "metadata": {
    "collapsed": false,
    "pycharm": {
     "name": "#%% md\n"
    }
   }
  },
  {
   "cell_type": "code",
   "execution_count": null,
   "outputs": [],
   "source": [
    "processed_audio, sr = pre_processing(EXAMPLE_PATH)\n",
    "print(len(processed_audio)/sr)\n",
    "mfcc = lb.feature.mfcc(y = processed_audio, sr = sr, n_mfcc = 13)\n",
    "mfcc_delta = lb.feature.delta(mfcc)\n",
    "mfcc_delta2 = lb.feature.delta(mfcc, order = 2)\n",
    "\n",
    "Audio(processed_audio, rate = sr)\n",
    "\n"
   ],
   "metadata": {
    "collapsed": false,
    "pycharm": {
     "name": "#%%\n"
    }
   }
  },
  {
   "cell_type": "markdown",
   "source": [
    "**(example)** show mfcc, delta & delta2"
   ],
   "metadata": {
    "collapsed": false,
    "pycharm": {
     "name": "#%% md\n"
    }
   }
  },
  {
   "cell_type": "code",
   "execution_count": null,
   "outputs": [],
   "source": [
    "fig, ax = plt.subplots(nrows =3, sharex =True)\n",
    "\n",
    "img_mfcc = display.specshow(mfcc, ax=ax[0])\n",
    "\n",
    "img_delta = display.specshow(mfcc_delta, ax=ax[1])\n",
    "\n",
    "img_delta2 = display.specshow(mfcc_delta2, ax=ax[2])\n",
    "\n"
   ],
   "metadata": {
    "collapsed": false,
    "pycharm": {
     "name": "#%%\n"
    }
   }
  },
  {
   "cell_type": "markdown",
   "source": [
    "**(example)** single execution example"
   ],
   "metadata": {
    "collapsed": false,
    "pycharm": {
     "name": "#%% md\n"
    }
   }
  },
  {
   "cell_type": "code",
   "execution_count": null,
   "outputs": [],
   "source": [
    "row_csv = []\n",
    "row_csv.append(\"id11\")\n",
    "row_csv.append(\"pathblablabla\")\n",
    "print(row_csv)\n",
    "for row in mfcc:\n",
    "  row_csv_2 = []\n",
    "  for value in row:\n",
    "    row_csv_2.append(value)\n",
    "  row_csv.append(row_csv_2)\n",
    "\n",
    "for row in mfcc_delta:\n",
    "  row_csv_2 = []\n",
    "  for value in row:\n",
    "    row_csv_2.append(value)\n",
    "  row_csv.append(row_csv_2)\n",
    "\n",
    "for row in mfcc_delta2:\n",
    "  row_csv_2 = []\n",
    "  for value in row:\n",
    "    row_csv_2.append(value)\n",
    "  row_csv.append(row_csv_2)\n",
    "\n",
    "header = [\"id\",\"path\",\n",
    "          \"mfcc1\",\"mfcc2\",\"mfcc3\",\"mfcc4\",\"mfcc5\",\"mfcc6\",\"mfcc7\",\"mfcc8\",\"mfcc9\",\"mfcc10\",\"mfcc11\",\"mfcc12\",\"mfcc13\",\n",
    "          \"delta1\",\"delta2\",\"delta3\",\"delta4\",\"delta5\",\"delta6\",\"delta7\",\"delta8\",\"delta9\",\"delta10\",\"delta11\",\"delta12\",\"delta13\",\n",
    "          \"delta2_1\",\"delta2_2\",\"delta2_3\",\"delta2_4\",\"delta2_5\",\"delta2_6\",\"delta2_7\",\"delta2_8\",\"delta2_9\",\"delta2_10\",\"delta2_11\",\"delta2_12\",\"delta2_13\"]\n",
    "\n",
    "with open(\"/content/drive/MyDrive/DATASET_VOXCELEB_1/file.csv\", \"w\", encoding=\"UTF-8\", newline=\"\") as cs:\n",
    "  writer = csv.writer(cs)\n",
    "  writer.writerow(header)\n",
    "  writer.writerow(row_csv)\n",
    "\n"
   ],
   "metadata": {
    "collapsed": false,
    "pycharm": {
     "name": "#%%\n"
    }
   }
  },
  {
   "cell_type": "markdown",
   "source": [
    "**creating** csv\n"
   ],
   "metadata": {
    "collapsed": false,
    "pycharm": {
     "name": "#%% md\n"
    }
   }
  },
  {
   "cell_type": "code",
   "execution_count": null,
   "outputs": [],
   "source": [
    "header = [\"id\",\"path\",\n",
    "          \"mfcc1\",\"mfcc2\",\"mfcc3\",\"mfcc4\",\"mfcc5\",\"mfcc6\",\"mfcc7\",\"mfcc8\",\"mfcc9\",\"mfcc10\",\"mfcc11\",\"mfcc12\",\"mfcc13\",\n",
    "          \"delta1\",\"delta2\",\"delta3\",\"delta4\",\"delta5\",\"delta6\",\"delta7\",\"delta8\",\"delta9\",\"delta10\",\"delta11\",\"delta12\",\"delta13\", \n",
    "          \"delta2_1\",\"delta2_2\",\"delta2_3\",\"delta2_4\",\"delta2_5\",\"delta2_6\",\"delta2_7\",\"delta2_8\",\"delta2_9\",\"delta2_10\",\"delta2_11\",\"delta2_12\",\"delta2_13\"]\n",
    "\n",
    "with open(BASE_PATH + \"id_mfcc_deltas_ridotto.csv\", \"w\", encoding=\"UTF-8\", newline=\"\") as writefile:\n",
    "  writer = csv.writer(writefile)\n",
    "  writer.writerow(header)\n",
    "  counter_speaker = 0\n",
    "  for dir in os.listdir(BASE_TRAINING_PATH):\n",
    "    if counter_speaker < 300:\n",
    "        counter_speaker+=1\n",
    "        count_audio = 0\n",
    "        for dir1 in os.listdir(BASE_TRAINING_PATH+dir):\n",
    "            if count_audio < 40:\n",
    "                for file in os.listdir(BASE_TRAINING_PATH+dir+\"/\"+dir1):\n",
    "                  if count_audio < 40:\n",
    "                      if not os.path.isdir(BASE_TRAINING_PATH+dir+\"/\"+dir1+\"/\"+file):\n",
    "                        count_audio +=1\n",
    "                        COMPLETE_PATH = BASE_TRAINING_PATH+dir+\"/\"+dir1+\"/\"+file\n",
    "                        processed_audio, sr = pre_processing(COMPLETE_PATH)\n",
    "\n",
    "                        #mfcc = get_mfcc_coefficient(processed_audio, rs) #my mfcc\n",
    "                        mfcc = lb.feature.mfcc(y = processed_audio, sr = sr, n_mfcc=13)\n",
    "                        mfcc_delta = lb.feature.delta(mfcc)\n",
    "                        mfcc_delta2 = lb.feature.delta(mfcc, order=2)\n",
    "\n",
    "                        row_csv = []\n",
    "                        row_csv.append(dir)\n",
    "                        row_csv.append(COMPLETE_PATH)\n",
    "\n",
    "\n",
    "                        for row in mfcc:\n",
    "                          row_csv_2 = []\n",
    "                          for value in row:\n",
    "                            row_csv_2.append(value)\n",
    "                          row_csv.append(row_csv_2)\n",
    "\n",
    "                        for row in mfcc_delta:\n",
    "                          row_csv_2 = []\n",
    "                          for value in row:\n",
    "                            row_csv_2.append(value)\n",
    "                          row_csv.append(row_csv_2)\n",
    "\n",
    "                        for row in mfcc_delta2:\n",
    "                          row_csv_2 = []\n",
    "                          for value in row:\n",
    "                            row_csv_2.append(value)\n",
    "                          row_csv.append(row_csv_2)\n",
    "\n",
    "                        writer.writerow(row_csv)\n",
    "\n",
    "        print(counter_speaker)\n",
    "    else:\n",
    "        continue"
   ],
   "metadata": {
    "collapsed": false,
    "pycharm": {
     "name": "#%%\n"
    }
   }
  },
  {
   "cell_type": "markdown",
   "source": [
    "loading df"
   ],
   "metadata": {
    "collapsed": false,
    "pycharm": {
     "name": "#%% md\n"
    }
   }
  },
  {
   "cell_type": "code",
   "execution_count": null,
   "outputs": [],
   "source": [
    "df = pd.read_csv(BASE_PATH + \"id_mfcc_deltas_ridotto.csv\")"
   ],
   "metadata": {
    "collapsed": false,
    "pycharm": {
     "name": "#%%\n"
    }
   }
  },
  {
   "cell_type": "markdown",
   "source": [
    "mfcc dataset con esplosione coefficienti"
   ],
   "metadata": {
    "collapsed": false,
    "pycharm": {
     "name": "#%% md\n"
    }
   }
  },
  {
   "cell_type": "code",
   "execution_count": null,
   "outputs": [],
   "source": [
    "features_mfcc = [\"mfcc1\", \"mfcc2\", \"mfcc3\", \"mfcc4\", \"mfcc5\", \"mfcc6\", \"mfcc7\", \"mfcc8\", \"mfcc9\", \"mfcc10\", \"mfcc11\",\n",
    "            \"mfcc12\", \"mfcc13\"]\n",
    "\n",
    "labels = df.loc[:, [\"id\"]].values #labael dataset\n",
    "features_mfcc_values = df.loc[:, features_mfcc].values #mfcc dataset\n",
    "\n",
    "del df\n",
    "\n",
    "total = features_mfcc_values.shape[0] * features_mfcc_values.shape[1]\n",
    "counter = 0\n",
    "correct_dataset_mfcc = []\n",
    "header = []\n",
    "\n",
    "with open(BASE_PATH + \"id_mfcc_solo_ridotto.csv\", \"w\", encoding=\"UTF-8\", newline=\"\") as writefile:\n",
    "    writer = csv.writer(writefile)\n",
    "    for i in range(features_mfcc_values.shape[0]): #\n",
    "        row_dataset = []\n",
    "        #row_dataset.append(labels[i])\n",
    "        for j in range(features_mfcc_values.shape[1]):\n",
    "            features_mfcc_values[i][j] = features_mfcc_values[i][j].split()\n",
    "            for k in range(len(features_mfcc_values[i][j])):\n",
    "                features_mfcc_values[i][j][k] = features_mfcc_values[i][j][k].replace(\"[\", \"\")\n",
    "                features_mfcc_values[i][j][k] = features_mfcc_values[i][j][k].replace(\"]\", \"\")\n",
    "                features_mfcc_values[i][j][k] = features_mfcc_values[i][j][k].replace(\",\", \"\")\n",
    "            for ele in features_mfcc_values[i][j]:\n",
    "                if ele == \"\":\n",
    "                    features_mfcc_values[i][j].remove(ele)\n",
    "            for k in range(len(features_mfcc_values[i][j])):\n",
    "                features_mfcc_values[i][j][k] = float(features_mfcc_values[i][j][k])\n",
    "                row_dataset.append(features_mfcc_values[i][j][k])\n",
    "        correct_dataset_mfcc.append(row_dataset)\n",
    "        counter += 1\n",
    "        print(counter, \"/\", features_mfcc_values.shape[0])\n",
    "\n",
    "    len_max = 0\n",
    "    for row in correct_dataset_mfcc:\n",
    "        if len(row) > len_max:\n",
    "            len_max = len(row)\n",
    "\n",
    "    for i in range(len_max):\n",
    "        header.append(\"mfcc_\" + str(i))\n",
    "\n",
    "    print(len_max)\n",
    "\n",
    "    writer.writerow(header)\n",
    "    writer.writerows(correct_dataset_mfcc)\n",
    "\n",
    "del correct_dataset_mfcc\n",
    "del features_mfcc_values"
   ],
   "metadata": {
    "collapsed": false,
    "pycharm": {
     "name": "#%%\n"
    }
   }
  },
  {
   "cell_type": "markdown",
   "source": [
    "mfcc riempiti in maniera circolare"
   ],
   "metadata": {
    "collapsed": false,
    "pycharm": {
     "name": "#%% md\n"
    }
   }
  },
  {
   "cell_type": "code",
   "execution_count": 4,
   "outputs": [
    {
     "name": "stdout",
     "output_type": "stream",
     "text": [
      "loaded csv\n",
      "dataframe completed\n",
      "          mfcc_0     mfcc_1     mfcc_2     mfcc_3      mfcc_4     mfcc_5  \\\n",
      "0     -257.97195 -230.95300 -224.49272 -223.02423 -217.985810 -200.15079   \n",
      "1     -222.82971 -177.45796 -144.76396 -131.10254 -119.256035 -110.73129   \n",
      "2     -256.69763 -230.69241 -231.23729 -239.27986 -243.750370 -222.89789   \n",
      "3     -447.66022 -364.88420 -340.55670 -351.75708 -369.286770 -372.16720   \n",
      "4     -345.65176 -337.67172 -342.77338 -333.55093 -330.994960 -328.49884   \n",
      "...          ...        ...        ...        ...         ...        ...   \n",
      "11995 -381.94952 -349.82830 -346.78622 -358.00244 -365.792800 -367.26624   \n",
      "11996 -390.75390 -352.10690 -340.24660 -338.99420 -344.979800 -371.16300   \n",
      "11997 -498.38303 -440.63090 -369.90802 -364.75470 -396.901600 -431.09670   \n",
      "11998 -402.48422 -265.44583 -222.53365 -252.51994 -354.065500 -435.74020   \n",
      "11999 -569.40330 -432.81006 -402.12128 -427.02840 -450.925200 -403.64014   \n",
      "\n",
      "          mfcc_6     mfcc_7     mfcc_8     mfcc_9  ...  mfcc_29942  \\\n",
      "0     -188.88948 -192.92793 -198.64996 -205.36676  ...         NaN   \n",
      "1     -127.48655 -147.36304 -173.15262 -206.36018  ...         NaN   \n",
      "2     -154.01764 -105.64315  -93.18479 -100.65769  ...         NaN   \n",
      "3     -368.38434 -366.10820 -369.49774 -371.48330  ...         NaN   \n",
      "4     -328.54266 -344.72568 -359.26860 -376.84415  ...         NaN   \n",
      "...          ...        ...        ...        ...  ...         ...   \n",
      "11995 -383.24716 -407.05880 -401.32803 -403.24730  ...         NaN   \n",
      "11996 -387.86462 -349.09890 -298.46173 -279.32150  ...         NaN   \n",
      "11997 -458.27768 -415.12700 -367.14423 -356.79040  ...         NaN   \n",
      "11998 -463.90630 -434.85425 -338.91168 -293.68906  ...         NaN   \n",
      "11999 -360.11590 -380.71494 -443.04926 -498.42990  ...         NaN   \n",
      "\n",
      "       mfcc_29943  mfcc_29944  mfcc_29945  mfcc_29946  mfcc_29947  mfcc_29948  \\\n",
      "0             NaN         NaN         NaN         NaN         NaN         NaN   \n",
      "1             NaN         NaN         NaN         NaN         NaN         NaN   \n",
      "2             NaN         NaN         NaN         NaN         NaN         NaN   \n",
      "3             NaN         NaN         NaN         NaN         NaN         NaN   \n",
      "4             NaN         NaN         NaN         NaN         NaN         NaN   \n",
      "...           ...         ...         ...         ...         ...         ...   \n",
      "11995         NaN         NaN         NaN         NaN         NaN         NaN   \n",
      "11996         NaN         NaN         NaN         NaN         NaN         NaN   \n",
      "11997         NaN         NaN         NaN         NaN         NaN         NaN   \n",
      "11998         NaN         NaN         NaN         NaN         NaN         NaN   \n",
      "11999         NaN         NaN         NaN         NaN         NaN         NaN   \n",
      "\n",
      "       mfcc_29949  mfcc_29950  mfcc_29951  \n",
      "0             NaN         NaN         NaN  \n",
      "1             NaN         NaN         NaN  \n",
      "2             NaN         NaN         NaN  \n",
      "3             NaN         NaN         NaN  \n",
      "4             NaN         NaN         NaN  \n",
      "...           ...         ...         ...  \n",
      "11995         NaN         NaN         NaN  \n",
      "11996         NaN         NaN         NaN  \n",
      "11997         NaN         NaN         NaN  \n",
      "11998         NaN         NaN         NaN  \n",
      "11999         NaN         NaN         NaN  \n",
      "\n",
      "[12000 rows x 29952 columns]\n"
     ]
    }
   ],
   "source": [
    "mfcc = pd.read_csv(BASE_PATH + \"id_mfcc_solo_ridotto.csv\")\n",
    "\n",
    "mfcc_np = np.array(mfcc, dtype=np.float32)\n",
    "index = 0\n",
    "for row in mfcc_np:\n",
    "    row_counter = 0\n",
    "    for i in range(len(row)):\n",
    "        if np.isnan(row[i]):\n",
    "            row[i] = row[row_counter]\n",
    "            row_counter+=1\n",
    "    index += 1\n",
    "    print(index)\n",
    "print(mfcc_np)\n",
    "\n",
    "pd.DataFrame(mfcc_np).to_csv(BASE_PATH + \"mfcc_filled_circular.csv\")"
   ],
   "metadata": {
    "collapsed": false,
    "pycharm": {
     "name": "#%%\n"
    }
   }
  },
  {
   "cell_type": "markdown",
   "source": [
    "vector quantization con kmeans"
   ],
   "metadata": {
    "collapsed": false,
    "pycharm": {
     "name": "#%% md\n"
    }
   }
  },
  {
   "cell_type": "code",
   "execution_count": null,
   "outputs": [],
   "source": [
    "from sklearn.cluster import KMeans\n",
    "\n",
    "mfcc = pd.read_csv(BASE_PATH + \"mfcc_filled_circular.csv\")\n",
    "\n",
    "mfcc_32 = np.array(mfcc, dtype= np.float32)\n",
    "mfcc_32 = np.delete(mfcc_32, 0, axis=1)\n",
    "\n",
    "X = mfcc_32.reshape((-1, 1))\n",
    "\n",
    "print(\"reshaped complete\")\n",
    "\n",
    "kmeans = KMeans(n_clusters=50)\n",
    "kmeans.fit(X)\n",
    "\n",
    "values = kmeans.cluster_centers_.squeeze()\n",
    "labels = kmeans.labels_\n",
    "\n",
    "matrix = np.array(labels)\n",
    "matrix = matrix.reshape(mfcc_32.shape)\n",
    "\n",
    "pd.DataFrame(matrix).to_csv(BASE_PATH + \"obs_for_hmm.csv\")"
   ],
   "metadata": {
    "collapsed": false,
    "pycharm": {
     "name": "#%%\n"
    }
   }
  },
  {
   "cell_type": "markdown",
   "source": [
    "test set & train set"
   ],
   "metadata": {
    "collapsed": false,
    "pycharm": {
     "name": "#%% md\n"
    }
   }
  },
  {
   "cell_type": "code",
   "execution_count": 3,
   "outputs": [
    {
     "name": "stdout",
     "output_type": "stream",
     "text": [
      "1499\n",
      "10500\n"
     ]
    }
   ],
   "source": [
    "observations = np.array(pd.read_csv(BASE_PATH + \"hmm\\\\obs_labeled.csv\"))\n",
    "index = 0\n",
    "train_set = []\n",
    "test_set = []\n",
    "for row in observations:\n",
    "    if 0 <= index <= 34:\n",
    "        train_set.append(row)\n",
    "        index+=1\n",
    "    elif index <= 38:\n",
    "        test_set.append(row)\n",
    "        index+=1\n",
    "    elif index == 39:\n",
    "        test_set.append(row)\n",
    "        index = 0\n",
    "\n",
    "print(len(test_set))\n",
    "print(len(train_set))"
   ],
   "metadata": {
    "collapsed": false,
    "pycharm": {
     "name": "#%%\n"
    }
   }
  },
  {
   "cell_type": "code",
   "execution_count": 4,
   "outputs": [
    {
     "name": "stdout",
     "output_type": "stream",
     "text": [
      "[[ 3  4  4 ... 24 26 26]\n",
      " [ 5  5  4 ... 24 26 26]\n",
      " [ 4  4  5 ... 24 26 26]\n",
      " ...\n",
      " [46 44 39 ... 24 26 26]\n",
      " [43  9  1 ... 24 26 26]\n",
      " [49 44 43 ... 24 26 26]]\n",
      "[[ 1  3  4 ... 24 26 26]\n",
      " [ 0  1  1 ... 24 26 26]\n",
      " [38 39 40 ... 24 26 26]\n",
      " ...\n",
      " [43 39 42 ... 24 26 26]\n",
      " [ 9  2  2 ... 24 26 26]\n",
      " [39 41 41 ... 24 26 26]]\n"
     ]
    }
   ],
   "source": [
    "test_set = np.array(test_set)\n",
    "train_set = np.array(train_set)\n",
    "\n",
    "print(test_set)\n",
    "print(train_set)"
   ],
   "metadata": {
    "collapsed": false,
    "pycharm": {
     "name": "#%%\n"
    }
   }
  }
 ]
}